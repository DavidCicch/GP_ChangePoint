{
 "cells": [
  {
   "cell_type": "code",
   "execution_count": 2,
   "metadata": {},
   "outputs": [],
   "source": [
    "x = 1"
   ]
  },
  {
   "cell_type": "code",
   "execution_count": 1,
   "metadata": {
    "colab": {
     "base_uri": "https://localhost:8080/"
    },
    "executionInfo": {
     "elapsed": 11804,
     "status": "ok",
     "timestamp": 1701785726414,
     "user": {
      "displayName": "David",
      "userId": "05951629955892034251"
     },
     "user_tz": -60
    },
    "id": "PrcgiHCbTmeo",
    "outputId": "eea3a5db-d904-44a9-e2b2-52ca6878e48f"
   },
   "outputs": [
    {
     "name": "stderr",
     "output_type": "stream",
     "text": [
      "<ipython-input-1-7528ff77912c>:9: DeprecationWarning: Accessing jax.config via the jax.config submodule is deprecated.\n",
      "  from jax.config import config\n"
     ]
    }
   ],
   "source": [
    "import matplotlib.pyplot as plt\n",
    "\n",
    "import jax\n",
    "import jax.random as jrnd\n",
    "import jax.numpy as jnp\n",
    "import distrax as dx\n",
    "import jaxkern as jk\n",
    "\n",
    "from jax.config import config\n",
    "config.update(\"jax_enable_x64\", True)  # crucial for Gaussian processes\n",
    "\n",
    "from tensorflow_probability.substrates import jax as tfp\n",
    "tfd = tfp.distributions\n",
    "tfb = tfp.bijectors\n",
    "\n",
    "from uicsmodels.gaussianprocesses.fullgp import FullLatentGPModel, FullMarginalGPModel"
   ]
  },
  {
   "cell_type": "code",
   "execution_count": 24,
   "metadata": {
    "executionInfo": {
     "elapsed": 479,
     "status": "ok",
     "timestamp": 1701787457219,
     "user": {
      "displayName": "David",
      "userId": "05951629955892034251"
     },
     "user_tz": -60
    },
    "id": "6ELRYf0BTrOK"
   },
   "outputs": [],
   "source": [
    "priors = dict(kernel=dict(lengthscale=dx.Transformed(dx.Normal(loc=0.,\n",
    "                                                               scale=1.),\n",
    "                                                     tfb.Exp()),\n",
    "                          variance=dx.Transformed(dx.Normal(loc=0.,\n",
    "                                                            scale=1.),\n",
    "                                                  tfb.Exp()),\n",
    "                          num=dx.Normal(loc=0.,\n",
    "                                        scale=1.)\n",
    "                                       ),\n",
    "              likelihood=dict(obs_noise=dx.Transformed(dx.Normal(loc=0.,\n",
    "                                                                 scale=1.),\n",
    "                                                       tfb.Exp())),\n",
    "              hyper = dict(hyper_pp = dx.Transformed(dx.Normal(loc=0.,\n",
    "                                                               scale=1.),\n",
    "                                                     tfb.Exp())))"
   ]
  },
  {
   "cell_type": "code",
   "execution_count": 10,
   "metadata": {
    "colab": {
     "base_uri": "https://localhost:8080/"
    },
    "executionInfo": {
     "elapsed": 12,
     "status": "ok",
     "timestamp": 1701785967338,
     "user": {
      "displayName": "David",
      "userId": "05951629955892034251"
     },
     "user_tz": -60
    },
    "id": "RBPJESQbT74n",
    "outputId": "06306ba2-e765-43c1-b14f-7bdd5c135ed2"
   },
   "outputs": [
    {
     "data": {
      "text/plain": [
       "[<distrax._src.distributions.transformed.Transformed at 0x784c78f510f0>,\n",
       " <distrax._src.distributions.transformed.Transformed at 0x784c7810ce80>,\n",
       " <distrax._src.distributions.transformed.Transformed at 0x784bd164c4f0>]"
      ]
     },
     "execution_count": 10,
     "metadata": {},
     "output_type": "execute_result"
    }
   ],
   "source": [
    "from jax.tree_util import tree_flatten, tree_unflatten\n",
    "from distrax._src.distributions.distribution import Distribution\n",
    "from distrax._src.bijectors.bijector import Bijector\n",
    "\n",
    "priors_flat, _ = tree_flatten(priors, lambda l: isinstance(l, (Distribution, Bijector)))\n",
    "priors_flat"
   ]
  },
  {
   "cell_type": "code",
   "execution_count": 25,
   "metadata": {
    "colab": {
     "base_uri": "https://localhost:8080/"
    },
    "executionInfo": {
     "elapsed": 404,
     "status": "ok",
     "timestamp": 1701787460049,
     "user": {
      "displayName": "David",
      "userId": "05951629955892034251"
     },
     "user_tz": -60
    },
    "id": "BWyi8uTRbrTM",
    "outputId": "4fbfc5e3-9340-4fca-ff64-d56eeaa55726"
   },
   "outputs": [
    {
     "name": "stdout",
     "output_type": "stream",
     "text": [
      "['lengthscale', 'variance', 'num', 'obs_noise', 'hyper_pp']\n"
     ]
    }
   ],
   "source": [
    "orig_names = [*priors]\n",
    "names = []\n",
    "for name in orig_names:\n",
    "  names = names + [*priors[name]]\n",
    "\n",
    "print(names)"
   ]
  },
  {
   "cell_type": "code",
   "execution_count": 21,
   "metadata": {
    "colab": {
     "base_uri": "https://localhost:8080/"
    },
    "executionInfo": {
     "elapsed": 395,
     "status": "ok",
     "timestamp": 1701786937597,
     "user": {
      "displayName": "David",
      "userId": "05951629955892034251"
     },
     "user_tz": -60
    },
    "id": "Fz2AcB0LZ4KL",
    "outputId": "9aa57f73-0e49-4e1e-e833-f04a48fcb12c"
   },
   "outputs": [
    {
     "data": {
      "text/plain": [
       "(Array([], dtype=int64),)"
      ]
     },
     "execution_count": 21,
     "metadata": {},
     "output_type": "execute_result"
    }
   ],
   "source": [
    "jnp.where(names == 'variance')"
   ]
  },
  {
   "cell_type": "code",
   "execution_count": 19,
   "metadata": {
    "colab": {
     "base_uri": "https://localhost:8080/"
    },
    "executionInfo": {
     "elapsed": 293,
     "status": "ok",
     "timestamp": 1701786475065,
     "user": {
      "displayName": "David",
      "userId": "05951629955892034251"
     },
     "user_tz": -60
    },
    "id": "tghq20jPWCmg",
    "outputId": "3bb444ef-581d-4388-943b-f70361d1d3a9"
   },
   "outputs": [
    {
     "name": "stdout",
     "output_type": "stream",
     "text": [
      "test\n"
     ]
    }
   ],
   "source": [
    "logprob = 0\n",
    "for dist, name in zip(priors_flat, names):\n",
    "  if name == 'num':\n",
    "    logprob += jnp.sum(dist.log_prob(name, names[-1]))"
   ]
  }
 ],
 "metadata": {
  "colab": {
   "authorship_tag": "ABX9TyPNnyzk/oxLv+3kV30gljT/",
   "provenance": []
  },
  "kernelspec": {
   "display_name": "Python 3 (ipykernel)",
   "language": "python",
   "name": "python3"
  },
  "language_info": {
   "codemirror_mode": {
    "name": "ipython",
    "version": 3
   },
   "file_extension": ".py",
   "mimetype": "text/x-python",
   "name": "python",
   "nbconvert_exporter": "python",
   "pygments_lexer": "ipython3",
   "version": "3.8.10"
  }
 },
 "nbformat": 4,
 "nbformat_minor": 4
}
